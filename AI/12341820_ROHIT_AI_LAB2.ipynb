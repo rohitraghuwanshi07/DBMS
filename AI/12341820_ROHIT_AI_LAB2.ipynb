{
  "nbformat": 4,
  "nbformat_minor": 0,
  "metadata": {
    "colab": {
      "provenance": []
    },
    "kernelspec": {
      "name": "python3",
      "display_name": "Python 3"
    },
    "language_info": {
      "name": "python"
    }
  },
  "cells": [
    {
      "cell_type": "code",
      "source": [
        "# Program to find Minimum Cost Hamiltonian Cycle using MST Heuristic\n",
        "\n",
        "import heapq\n",
        "from collections import defaultdict\n",
        "\n",
        "# Function to build Minimum Spanning Tree using Prim's Algorithm\n",
        "def prim_mst(graph):\n",
        "    n = len(graph)\n",
        "    parent = [-1] * n\n",
        "    key = [float(\"inf\")] * n\n",
        "    visited = [False] * n\n",
        "\n",
        "    key[0] = 0   # start from vertex 0\n",
        "    pq = [(0, 0)]  # (weight, vertex)\n",
        "\n",
        "    while pq:\n",
        "        _, u = heapq.heappop(pq)\n",
        "        visited[u] = True\n",
        "\n",
        "        for v in range(n):\n",
        "            if graph[u][v] != 0 and not visited[v] and graph[u][v] < key[v]:\n",
        "                key[v] = graph[u][v]\n",
        "                parent[v] = u\n",
        "                heapq.heappush(pq, (key[v], v))\n",
        "    return parent\n",
        "\n",
        "# Preorder traversal of MST (DFS)\n",
        "def preorder(parent, start):\n",
        "    adj = defaultdict(list)\n",
        "    for v in range(1, len(parent)):\n",
        "        u = parent[v]\n",
        "        adj[u].append(v)\n",
        "        adj[v].append(u)\n",
        "\n",
        "    visited = [False] * len(parent)\n",
        "    order = []\n",
        "\n",
        "    def dfs(u):\n",
        "        visited[u] = True\n",
        "        order.append(u)\n",
        "        for v in adj[u]:\n",
        "            if not visited[v]:\n",
        "                dfs(v)\n",
        "\n",
        "    dfs(start)\n",
        "    return order\n",
        "\n",
        "# Main function for MST Heuristic TSP\n",
        "def tsp_mst(graph, start=0):\n",
        "    parent = prim_mst(graph)\n",
        "    order = preorder(parent, start)\n",
        "\n",
        "    path = []\n",
        "    visited = set()\n",
        "    cost = 0\n",
        "    current = start\n",
        "\n",
        "    for v in order:\n",
        "        if v not in visited:\n",
        "            path.append(v)\n",
        "            visited.add(v)\n",
        "            if current != v:\n",
        "                cost += graph[current][v]\n",
        "            current = v\n",
        "\n",
        "    path.append(start)\n",
        "    cost += graph[current][start]\n",
        "\n",
        "    return path, cost\n",
        "\n",
        "\n",
        "# Example\n",
        "if __name__ == \"__main__\":\n",
        "    # Distance matrix\n",
        "    graph = [\n",
        "        [0, 5, 15, 25],\n",
        "        [5, 0, 35, 40],\n",
        "        [15, 35, 0, 30],\n",
        "        [25, 40, 30, 0]\n",
        "    ]\n",
        "\n",
        "    start = 0\n",
        "    path, total_cost = tsp_mst(graph, start)\n",
        "\n",
        "    print(\"Hamiltonian Cycle using MST Heuristic:\")\n",
        "    print(\"Path:\", \" -> \".join(str(p+1) for p in path))\n",
        "    print(\"Cost:\", total_cost)\n"
      ],
      "metadata": {
        "colab": {
          "base_uri": "https://localhost:8080/"
        },
        "id": "B01qH8gcIOWZ",
        "outputId": "09460b3f-e543-43eb-d940-8c516a0697bb"
      },
      "execution_count": 6,
      "outputs": [
        {
          "output_type": "stream",
          "name": "stdout",
          "text": [
            "Hamiltonian Cycle using MST Heuristic:\n",
            "Path: 1 -> 2 -> 3 -> 4 -> 1\n",
            "Cost: 95\n"
          ]
        }
      ]
    },
    {
      "cell_type": "code",
      "source": [],
      "metadata": {
        "id": "IFHPTn2aKvWx"
      },
      "execution_count": null,
      "outputs": []
    }
  ]
}